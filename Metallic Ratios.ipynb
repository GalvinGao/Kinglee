{
 "cells": [
  {
   "cell_type": "markdown",
   "metadata": {},
   "source": [
    "# Metallic Ratios in Polygons"
   ]
  },
  {
   "cell_type": "markdown",
   "metadata": {},
   "source": [
    " $ (1) $<center>$ r^2 = h^2 + k^2$</center>\n",
    " $ (2) $<center>$ r^2 = \\left( \\cos \\theta - k \\right)^2 + \\left( \\sin \\theta - h \\right)^2 $</center>"
   ]
  },
  {
   "cell_type": "markdown",
   "metadata": {},
   "source": [
    "$$ \\theta = \\frac{\\pi \\left(m-2 \\right)}{n}$$"
   ]
  },
  {
   "cell_type": "markdown",
   "metadata": {},
   "source": [
    "$$ \\phi = \\frac{\\pi \\left(n-2 \\right)}{n}  $$"
   ]
  },
  {
   "cell_type": "markdown",
   "metadata": {},
   "source": [
    "$$ \\frac{ \\sin \\phi}{d} =  \\sin \\left( \\frac{\\pi}{2} - \\frac{\\phi}{2} \\right)$$"
   ]
  },
  {
   "cell_type": "markdown",
   "metadata": {},
   "source": [
    "$$ d = \\frac{\\sin \\phi}{\\cos \\left( \\frac{\\phi}{2}\\right)} $$"
   ]
  },
  {
   "cell_type": "markdown",
   "metadata": {},
   "source": [
    "$$ \\delta = \\theta +\\frac{\\phi}{2} - \\frac{\\pi}{2} $$"
   ]
  },
  {
   "cell_type": "markdown",
   "metadata": {},
   "source": [
    "$$ \\delta = \\frac{\\pi \\left(m-3\\right)}{n}$$"
   ]
  },
  {
   "cell_type": "markdown",
   "metadata": {
    "collapsed": true
   },
   "source": [
    "$ (3) $ <center>$ r^2 = \\left( d \\cos \\delta - k \\right)^2 + \\left( d \\sin \\delta - h \\right)^2 $</center>"
   ]
  },
  {
   "cell_type": "markdown",
   "metadata": {},
   "source": [
    "$(1)$ and $(2) \\to (4)$ <center>$\\frac{1}{2} = k \\cos \\theta + h \\sin \\theta$</center>"
   ]
  },
  {
   "cell_type": "markdown",
   "metadata": {},
   "source": [
    "$(1)$ and $(2) \\to (5)$ <center>$\\frac{d}{2} =  k \\cos \\delta +  h \\sin \\delta$</center>"
   ]
  },
  {
   "cell_type": "markdown",
   "metadata": {},
   "source": [
    "$(4)$ and $(5)\\to (6)$<center>$ k = \\frac{ \\sin \\delta - d \\sin \\theta}{2 \\left(  \\sin \\delta \\cos \\theta -\\cos \\delta \\sin \\theta \\right) }$</center>"
   ]
  },
  {
   "cell_type": "markdown",
   "metadata": {},
   "source": [
    "$$ r^2 = \\left( x - k \\right)^2 + \\left( y - h \\right)^2$$\n",
    "$$ r^2 = \\left( r_0 - k \\right)^2 + h^2 $$\n",
    "$$ r_0 = 2  k  $$"
   ]
  },
  {
   "cell_type": "markdown",
   "metadata": {},
   "source": [
    "$(7)$<center>$ \\Phi - \\frac{1}{\\Phi} = r_0 - \\frac{1}{r_0} = l, l \\in \\mathbb{Z}$</center>"
   ]
  },
  {
   "cell_type": "code",
   "execution_count": 10,
   "metadata": {
    "collapsed": false
   },
   "outputs": [
    {
     "name": "stdout",
     "output_type": "stream",
     "text": [
      "1.0\n"
     ]
    }
   ],
   "source": [
    "import numpy\n",
    "m=3.0\n",
    "n=5.0\n",
    "phi=numpy.pi*(n-2.0)/n\n",
    "theta=numpy.pi*(m-2.0)/n\n",
    "delta=numpy.pi*(m-3.0)/n\n",
    "d=numpy.sin(phi)/numpy.cos(phi/2.0)\n",
    "k=(numpy.sin(delta)-d*numpy.sin(theta))\\\n",
    "    /(numpy.sin(delta)*numpy.cos(theta)-numpy.cos(delta)*numpy.sin(theta))/2.0\n",
    "r=2*k\n",
    "print(r-1/r)"
   ]
  },
  {
   "cell_type": "code",
   "execution_count": 3,
   "metadata": {
    "collapsed": false
   },
   "outputs": [
    {
     "name": "stdout",
     "output_type": "stream",
     "text": [
      "2.0\n"
     ]
    }
   ],
   "source": [
    "m=4.0\n",
    "n=8.0\n",
    "phi=numpy.pi*(n-2.0)/n\n",
    "theta=numpy.pi*(m-2.0)/n\n",
    "delta=numpy.pi*(m-3.0)/n\n",
    "d=numpy.sin(phi)/numpy.cos(phi/2.0)\n",
    "k=(numpy.sin(delta)-d*numpy.sin(theta))\\\n",
    "    /(numpy.sin(delta)*numpy.cos(theta)-numpy.cos(delta)*numpy.sin(theta))/2.0\n",
    "r=2*k\n",
    "print(r-1/r)"
   ]
  },
  {
   "cell_type": "code",
   "execution_count": 6,
   "metadata": {
    "collapsed": false
   },
   "outputs": [
    {
     "name": "stdout",
     "output_type": "stream",
     "text": [
      "n=5 m=3\n",
      "n=5 m=4\n",
      "n=8 m=4\n",
      "n=8 m=6\n",
      "no more\n"
     ]
    }
   ],
   "source": [
    "for n in range(5,100):\n",
    "    for m in range(3,n):\n",
    "        phi=numpy.pi*(n-2.0)/n\n",
    "        theta=numpy.pi*(m-2.0)/n\n",
    "        delta=numpy.pi*(m-3.0)/n\n",
    "        d=numpy.sin(phi)/numpy.cos(phi/2.0)\n",
    "        k=(numpy.sin(delta)-d*numpy.sin(theta))\\\n",
    "            /(numpy.sin(delta)*numpy.cos(theta)-numpy.cos(delta)\\\n",
    "            *numpy.sin(theta))/2.0\n",
    "        r=2*k\n",
    "        #print(n)\n",
    "        if abs((r-1/r)-numpy.round(r-1/r,0))<0.000000000001:\n",
    "            print('n='+str(n)+' '+'m='+str(m))\n",
    "print('no more')"
   ]
  },
  {
   "cell_type": "markdown",
   "metadata": {
    "collapsed": false
   },
   "source": [
    "$$ k = \\frac{\\sin \\delta \\cos \\left( \\frac{\\phi}{2}\\right) - \\sin \\phi \\sin \\theta}{2 \\cos \\left( \\frac{\\phi}{2}\\right) \\left( \\sin \\delta \\cos \\theta - \\cos \\delta \\sin \\theta \\right) } $$"
   ]
  },
  {
   "cell_type": "markdown",
   "metadata": {
    "collapsed": true
   },
   "source": [
    "$$ \\cos \\left( \\frac{\\phi}{2} \\right) = \\cos \\left( \\frac{\\pi}{2} - \\frac{\\pi}{n}\\right) = \\sin \\left( \\frac{\\pi }{n} \\right)$$"
   ]
  },
  {
   "cell_type": "markdown",
   "metadata": {},
   "source": [
    "$$ \\sin \\delta \\cos \\theta - \\cos \\delta \\sin \\theta = \\sin \\left( \\delta - \\theta \\right) $$"
   ]
  },
  {
   "cell_type": "markdown",
   "metadata": {},
   "source": [
    "$$ \\sin \\left( \\delta - \\theta \\right) = \\sin \\left( \\frac{\\pi \\left( m - 3 \\right)}{n}-\\frac{\\pi \\left( m - 2 \\right)}{n} \\right) = -\\sin \\left( \\frac{\\pi}{n} \\right)$$"
   ]
  },
  {
   "cell_type": "markdown",
   "metadata": {},
   "source": [
    " $$ k =  \\frac{  \\sin \\phi \\sin \\theta-\\sin \\delta \\cos \\left( \\frac{\\phi}{2} \\right)}{2 \\cos \\left( \\frac{\\phi}{2} \\right)\\sin \\left(\\frac{\\pi}{n} \\right)} $$"
   ]
  },
  {
   "cell_type": "markdown",
   "metadata": {},
   "source": [
    "$$ k= \\frac{2 \\sin \\left( \\frac{\\phi}{2} \\right) \\cos \\left( \\frac{\\phi}{2} \\right) \\sin \\theta - \\sin \\delta \\cos \\left( \\frac{\\phi}{2} \\right)}{2 \\cos \\left( \\frac{\\phi}{2} \\right) \\sin \\left( \\frac{\\pi}{n}\\right)}$$"
   ]
  },
  {
   "cell_type": "markdown",
   "metadata": {},
   "source": [
    "$$ k = \\frac{2 \\sin \\left(\\frac{\\phi}{2}\\right)\\sin \\theta - \\sin \\delta}{2 \\sin \\left( \\frac{\\pi}{n} \\right)}$$"
   ]
  },
  {
   "cell_type": "markdown",
   "metadata": {},
   "source": [
    "$$2 \\sin\\left(\\frac{\\phi}{2}\\right) \\sin \\theta = \\cos \\left( \\frac{\\pi \\left(n-2m+2\\right)}{2 n}\\right)-\\cos \\left( \\frac{\\pi \\left(n+2m-6\\right)}{2 n}\\right)$$"
   ]
  },
  {
   "cell_type": "markdown",
   "metadata": {},
   "source": [
    "$$k=\\frac{\\cos \\left( \\frac{\\pi \\left(n-2m+2\\right)}{ 2 n}\\right)-\\cos \\left( \\frac{\\pi \\left(n+2m-6\\right)}{2 n}\\right)-\\sin\\left( \\frac{\\pi \\left(m-3\\right)}{n}\\right)}{2 \\sin\\left(\\frac{\\pi}{n}\\right)}$$"
   ]
  },
  {
   "cell_type": "markdown",
   "metadata": {},
   "source": [
    "$$k=\\frac{\\sin \\left( \\frac{\\pi \\left(m-3\\right)}{n}\\right)-\\sin \\left( \\frac{\\pi \\left(1-m\\right)}{n}\\right)-\\sin\\left( \\frac{\\pi \\left(m-3\\right)}{n}\\right)}{2 \\sin\\left(\\frac{\\pi}{n}\\right)}$$"
   ]
  },
  {
   "cell_type": "markdown",
   "metadata": {},
   "source": [
    "$$r = 2 k=\\frac{\\sin\\left(\\frac{\\pi\\left(m-1\\right)}{n}\\right)}{\\sin\\left(\\frac{\\pi}{n}\\right)}$$"
   ]
  },
  {
   "cell_type": "code",
   "execution_count": 7,
   "metadata": {
    "collapsed": false
   },
   "outputs": [
    {
     "name": "stdout",
     "output_type": "stream",
     "text": [
      "1.0\n"
     ]
    }
   ],
   "source": [
    "m=3.0\n",
    "n=5.0\n",
    "k=numpy.sin(numpy.pi*(m-1)/(n))/(2*numpy.sin(numpy.pi/n))\n",
    "r=2*k\n",
    "print(r-1/r)"
   ]
  },
  {
   "cell_type": "code",
   "execution_count": 8,
   "metadata": {
    "collapsed": false
   },
   "outputs": [
    {
     "name": "stdout",
     "output_type": "stream",
     "text": [
      "2.0\n"
     ]
    }
   ],
   "source": [
    "m=4.0\n",
    "n=8.0\n",
    "k=numpy.sin(numpy.pi*(m-1)/(n))/(2*numpy.sin(numpy.pi/n))\n",
    "r=2*k\n",
    "print(r-1/r)"
   ]
  },
  {
   "cell_type": "markdown",
   "metadata": {},
   "source": [
    "$$r-\\frac{1}{r} = l$$"
   ]
  },
  {
   "cell_type": "markdown",
   "metadata": {},
   "source": [
    "$$ r = \\frac{l+\\sqrt{l^2+4}}{2}$$"
   ]
  },
  {
   "cell_type": "code",
   "execution_count": 9,
   "metadata": {
    "collapsed": false
   },
   "outputs": [
    {
     "name": "stdout",
     "output_type": "stream",
     "text": [
      "1.61803398875\n",
      "1.61803398875\n"
     ]
    }
   ],
   "source": [
    "n=5\n",
    "m=3\n",
    "l=1\n",
    "print(numpy.sin(numpy.pi*(m-1)/n)/numpy.sin(numpy.pi/n))\n",
    "print(numpy.sqrt(l**2+4)/2+l/2)"
   ]
  },
  {
   "cell_type": "markdown",
   "metadata": {
    "collapsed": true
   },
   "source": [
    "$$\\frac{\\sin\\left(\\frac{\\pi\\left(m-1\\right)}{n}\\right)}{\\sin\\left(\\frac{\\pi}{n}\\right)}=\\frac{l+\\sqrt{l^2+4}}{2}$$"
   ]
  },
  {
   "cell_type": "markdown",
   "metadata": {},
   "source": [
    "As far as we can tell there are two cases $l=1$, $n=5$,and $m=3$ and $l=2$, $n=8$,and $m=4$. First consider $l=1$. Notice that $\\sin\\left(\\frac{\\pi}{5}\\right)$, and $\\sin\\left(\\frac{2 \\pi}{5}\\right)$ are both solutions to $16 x^4 - 20 x^2 + 5 = 0$."
   ]
  },
  {
   "cell_type": "markdown",
   "metadata": {},
   "source": [
    "This is no suprise as<br>\n",
    "$\\theta_1=\\frac{\\pi}{5}$\n",
    "$$ 3 \\theta_1 + 2 \\theta_1 = \\pi$$\n",
    "$$\\sin\\left(3 \\theta_1\\right)=\\sin\\left(\\pi-2\\theta_1\\right)$$\n",
    "$$3 \\sin\\left(\\theta_1\\right) - 4 \\sin^3\\left(\\theta_1\\right) = 2\\sin\\left(\\theta_1\\right)\\cos\\left(\\theta_1\\right)$$\n",
    "$$9 - 24 \\sin^2\\left(\\theta_1\\right) + 16 \\sin^4\\left(\\theta_1\\right) = 4 - 4 \\sin^2\\left(\\theta_1\\right)$$\n",
    "$$16 \\sin^4\\left(\\theta_1\\right) - 20 \\sin^2\\left(\\theta_1\\right) + 5 = 0$$\n",
    "$$\\sin\\left(\\theta_1\\right)=\\sqrt{\\frac{5-\\sqrt{5}}{8}}$$\n",
    "$\\theta_2=\\frac{2 \\pi}{5}$\n",
    "$$ 3 \\theta_2 + 2 \\theta_2 = 2 \\pi$$\n",
    "$$\\sin\\left(3 \\theta_2\\right)=\\sin\\left(2 \\pi-2\\theta_2\\right)$$\n",
    "$$3 \\sin\\left(\\theta_2\\right) - 4 \\sin^3\\left(\\theta_2\\right) = -2\\sin\\left(\\theta_2\\right)\\cos\\left(\\theta_2\\right)$$\n",
    "$$9 - 24 \\sin^2\\left(\\theta_2\\right) + 16 \\sin^4\\left(\\theta_2\\right) = 4 - 4 \\sin^2\\left(\\theta_2\\right)$$\n",
    "$$16 \\sin^4\\left(\\theta_2\\right) - 20 \\sin^2\\left(\\theta_2\\right) + 5 = 0$$\n",
    "$$\\sin\\left(\\theta_2\\right)=\\sqrt{\\frac{5+\\sqrt{5}}{8}}$$"
   ]
  },
  {
   "cell_type": "markdown",
   "metadata": {},
   "source": [
    "Similarly, when $l=2$<br>\n",
    "$\\theta_1=\\frac{\\pi}{8}$\n",
    "$$ 2 \\theta_1 +  2 \\theta_1 = \\frac{\\pi}{2}$$\n",
    "$$\\sin\\left(2 \\theta_1\\right)=\\sin\\left(\\frac{\\pi}{2}- 2\\theta_1\\right)$$\n",
    "$$2 \\sin\\left(\\theta_1\\right) \\cos\\left(\\theta_1\\right) = \\cos\\left(2 \\theta_1\\right)$$\n",
    "$$2 \\sin\\left(\\theta_1\\right) \\cos\\left(\\theta_1\\right) = 1 -  2 \\sin^2\\left(\\theta_1\\right)$$\n",
    "$$4 \\sin^2\\left(\\theta_1\\right) \\cos^2\\left(\\theta_1\\right) = 1 -  4 \\sin^2\\left(\\theta_1\\right)+4 \\sin^4\\left(\\theta_1\\right)$$\n",
    "$$4 \\sin^2\\left(\\theta_1\\right) -4 \\sin^4\\left(\\theta_1\\right) = 1 -  4 \\sin^2\\left(\\theta_1\\right)+4 \\sin^4\\left(\\theta_1\\right)$$\n",
    "$$8 \\sin^4\\left(\\theta_1\\right) - 8 \\sin^2\\left(\\theta_1\\right) + 1 = 0$$\n",
    "$$\\sin\\left(\\theta_1\\right)=\\sqrt{\\frac{2-\\sqrt{2}}{4}}$$\n",
    "\n",
    "$\\theta_2=\\frac{3 \\pi}{8}$\n",
    "$$ 2 \\theta_2 +  2 \\theta_2 = \\frac{3\\pi}{2}$$\n",
    "$$\\sin\\left(2 \\theta_2\\right)=\\sin\\left(\\frac{3\\pi}{2}- 2\\theta_2\\right)$$\n",
    "$$2 \\sin\\left(\\theta_2\\right) \\cos\\left(\\theta_2\\right) = -\\cos\\left(2 \\theta_2\\right)$$\n",
    "$$2 \\sin\\left(\\theta_2\\right) \\cos\\left(\\theta_2\\right) =  2 \\sin^2\\left(\\theta_2\\right)-1$$\n",
    "$$4 \\sin^2\\left(\\theta_2\\right) \\cos^2\\left(\\theta_2\\right) = 1 -  4 \\sin^2\\left(\\theta_2\\right)+4 \\sin^4\\left(\\theta_2\\right)$$\n",
    "$$4 \\sin^2\\left(\\theta_2\\right) -4 \\sin^4\\left(\\theta_2\\right) = 1 -  4 \\sin^2\\left(\\theta_2\\right)+4 \\sin^4\\left(\\theta_2\\right)$$\n",
    "$$8 \\sin^4\\left(\\theta_2\\right) - 8 \\sin^2\\left(\\theta_2\\right) + 1 = 0$$\n",
    "$$\\sin\\left(\\theta_2\\right)=\\sqrt{\\frac{2+\\sqrt{2}}{4}}$$"
   ]
  },
  {
   "cell_type": "markdown",
   "metadata": {},
   "source": [
    "So the only solutions found are ratios of solutions to the same equations. Assuming this is true, \n",
    "$$\\frac{\\sin\\left(\\frac{\\pi\\left(m-1\\right)}{n}\\right)}{\\sin\\left(\\frac{\\pi}{n}\\right)}=\\sqrt{\\frac{\\frac{-b+\\sqrt{b^2-4 a c}}{2 a}}{\\frac{-b-\\sqrt{b^2-4 a c}}{2 a}}}=\\sqrt{\\frac{-b+\\sqrt{b^2-4 a c}}{-b-\\sqrt{b^2-4 a c}}}$$\n",
    "$$\\frac{\\sin\\left(\\frac{\\pi\\left(m-1\\right)}{n}\\right)}{\\sin\\left(\\frac{\\pi}{n}\\right)}=\\sqrt{\\frac{-b+\\sqrt{b^2-4 a c}}{-b-\\sqrt{b^2-4 a c}}\\frac{-b+\\sqrt{b^2-4 a c}}{-b+\\sqrt{b^2-4 a c}}}$$\n",
    "$$\\frac{\\sin\\left(\\frac{\\pi\\left(m-1\\right)}{n}\\right)}{\\sin\\left(\\frac{\\pi}{n}\\right)}=\\frac{-b+\\sqrt{b^2-4 a c}}{\\sqrt{4 a c}}=\\frac{l+\\sqrt{l^2+4}}{2}$$\n",
    "Then, 2 dependent equations arise, \n",
    "$$\\sqrt{l^2+4} = - \\frac{b}{ \\sqrt{a c}}$$\n",
    "$$l = \\sqrt{\\frac{b^2}{a c}-4}$$"
   ]
  },
  {
   "cell_type": "markdown",
   "metadata": {},
   "source": [
    "$$ \\sin\\left(\\frac{\\pi\\left(m-1\\right)}{n}\\right) = \\sqrt{\\frac{\\sqrt{ac}\\sqrt{l^2+4}+l \\sqrt{ac} }{2a}} =\n",
    "\\left(\\frac{c}{a}\\right)^\\frac{1}{4}\\sqrt{\\frac{\\sqrt{l^2+4}+l}{2}}$$"
   ]
  },
  {
   "cell_type": "code",
   "execution_count": 12,
   "metadata": {
    "collapsed": false
   },
   "outputs": [
    {
     "name": "stdout",
     "output_type": "stream",
     "text": [
      "0.951056516295\n",
      "0.951056516295\n",
      "0.587785252292\n",
      "0.587785252292\n"
     ]
    }
   ],
   "source": [
    "print(numpy.sin(numpy.pi*2.0/5.0))\n",
    "print((5.0/16.0)**0.25*numpy.sqrt((numpy.sqrt(5)+1)/2.0))\n",
    "print(numpy.sin(numpy.pi*1.0/5.0))\n",
    "print((5.0/16.0)**0.25*numpy.sqrt((numpy.sqrt(5)-1)/2.0))"
   ]
  },
  {
   "cell_type": "markdown",
   "metadata": {},
   "source": [
    "$$\\sin^2\\left(\\frac{\\pi\\left(m-1\\right)}{n}\\right) = \\sqrt{\\frac{c}{a}} \\frac{\\sqrt{l^2+4}+l}{2}$$\n"
   ]
  },
  {
   "cell_type": "markdown",
   "metadata": {},
   "source": [
    "$$2\\sqrt{\\frac{a}{c}}\\sin^2\\left(\\frac{\\pi\\left(m-1\\right)}{n}\\right) - l= \\sqrt{l^2+4}$$"
   ]
  },
  {
   "cell_type": "markdown",
   "metadata": {},
   "source": [
    "\n",
    "$$4\\frac{a}{c}\\sin^4\\left(\\frac{\\pi\\left(m-1\\right)}{n}\\right) -4 l \\sqrt{\\frac{a}{c}}\\sin^2\\left(\\frac{\\pi\\left(m-1\\right)}{n}\\right) +l^2= l^2+4$$"
   ]
  },
  {
   "cell_type": "markdown",
   "metadata": {},
   "source": [
    "$${a}\\sin^4\\left(\\frac{\\pi\\left(m-1\\right)}{n}\\right) -l \\sqrt{ac}\\sin^2\\left(\\frac{\\pi\\left(m-1\\right)}{n}\\right) - c =0$$"
   ]
  },
  {
   "cell_type": "code",
   "execution_count": 22,
   "metadata": {
    "collapsed": false
   },
   "outputs": [
    {
     "name": "stdout",
     "output_type": "stream",
     "text": [
      "-1.7763568394e-15\n"
     ]
    }
   ],
   "source": [
    "a=16.0\n",
    "c=5.0\n",
    "l=1.0\n",
    "print(a*numpy.sin(numpy.pi*2.0/5.0)**4-\\\n",
    "      numpy.sqrt(a*c)*numpy.sin(numpy.pi*2.0/5.0)**2-\\\n",
    "      c)"
   ]
  },
  {
   "cell_type": "markdown",
   "metadata": {},
   "source": [
    "$${a}\\sin^4\\left(\\frac{\\pi}{n}\\right) +l \\sqrt{ac}\\sin^2\\left(\\frac{\\pi}{n}\\right) - c =0$$"
   ]
  },
  {
   "cell_type": "code",
   "execution_count": 23,
   "metadata": {
    "collapsed": false
   },
   "outputs": [
    {
     "name": "stdout",
     "output_type": "stream",
     "text": [
      "0.0\n"
     ]
    }
   ],
   "source": [
    "\n",
    "print(a*numpy.sin(numpy.pi/5.0)**4+\\\n",
    "      numpy.sqrt(a*c)*numpy.sin(numpy.pi/5.0)**2-\\\n",
    "      c)"
   ]
  },
  {
   "cell_type": "markdown",
   "metadata": {},
   "source": [
    "$$ \\frac{a}{c} \\sin^4\\left(\\frac{\\pi}{n}\\right) + \\sqrt{\\frac{a}{c}} l \\sin^2\\left(\\frac{\\pi}{n}\\right)-1=0$$"
   ]
  },
  {
   "cell_type": "markdown",
   "metadata": {},
   "source": [
    "$$\\sqrt{\\frac{a}{c}} = \\frac{- l \\sin^2\\left(\\frac{\\pi}{n}\\right) + \\sqrt{l^2\\sin^4\\left(\\frac{\\pi}{n}\\right) +4 \\sin^4\\left(\\frac{\\pi}{n}\\right)} }{2 \\sin^4\\left(\\frac{\\pi}{n}\\right)}$$"
   ]
  },
  {
   "cell_type": "code",
   "execution_count": 27,
   "metadata": {
    "collapsed": false
   },
   "outputs": [
    {
     "name": "stdout",
     "output_type": "stream",
     "text": [
      "1.788854382\n",
      "1.788854382\n"
     ]
    }
   ],
   "source": [
    "print(numpy.sqrt(a/c))\n",
    "x=numpy.sin(numpy.pi/5.0)\n",
    "print((-l*x**2+numpy.sqrt(l**2*x**4+4*x**4))/(2*x**4))"
   ]
  },
  {
   "cell_type": "markdown",
   "metadata": {},
   "source": [
    "$$ \\sin\\left(\\frac{\\pi\\left(m-1\\right)}{n}\\right) =\n",
    "\\left(\\frac{c}{a}\\right)^\\frac{1}{4}\\sqrt{\\frac{\\sqrt{l^2+4}+l}{2}} = \n",
    "\\sqrt{\\frac{2\\sin^2\\left(\\frac{\\pi}{n}\\right)}{\\sqrt{l^2+4}-l}} \\sqrt{\\frac{\\sqrt{l^2+4}+l}{2}}$$"
   ]
  },
  {
   "cell_type": "markdown",
   "metadata": {},
   "source": [
    "$$ \\frac{\\sin\\left(\\frac{\\pi\\left(m-1\\right)}{n}\\right)} \n",
    "{\\sin\\left(\\frac{\\pi}{n}\\right)}=\n",
    "\\sqrt{\\frac{\\sqrt{l^2+4}+l}{\\sqrt{l^2+4}-l}}$$"
   ]
  },
  {
   "cell_type": "markdown",
   "metadata": {},
   "source": [
    "$$\\frac{\\sin^2\\left(\\frac{\\left(m-1\\right)\\pi}{n}\\right)-\\sin^2\\left(\\frac{\\pi}{n}\\right)}{\\sin\\left(\\frac{\\left(m-1\\right)\\pi}{n}\\right) \\sin\\left(\\frac{\\pi}{n}\\right)}=l$$"
   ]
  },
  {
   "cell_type": "markdown",
   "metadata": {
    "collapsed": true
   },
   "source": [
    "$$\n",
    "\\frac{\n",
    "\\sin^2\\left(\\frac{\\left(m-1\\right)\\pi}{n}\\right) - \n",
    "\\sin^2\\left(\\frac{\\pi}{n}\\right)+\n",
    "\\sin\\left(\\frac{\\left(m-1\\right)\\pi}{n}\\right)\n",
    "\\sin\\left(\\frac{\\pi}{n}\\right)\n",
    "}\n",
    "{\n",
    "\\sin\\left(\\frac{\\pi\\left(m-1\\right)\\pi}{n}\\right)\\sin\\left(\\frac{\\pi}{n}\\right)\n",
    "}=l+1\n",
    "$$"
   ]
  },
  {
   "cell_type": "markdown",
   "metadata": {},
   "source": [
    "$$\\frac{ \\cos\\left(\\frac{2\\pi m}{n}\\right)-\\cos\\left(\\frac{2\\pi}{n}\\right)+\\cos\\left(\\frac{\\left(m-2\\right)\\pi}{n}\\right)-\\cos\\left(\\frac{m \\pi}{n}\\right)}{ \\cos\\left(\\frac{\\pi\\left(m-2\\right)}{n}\\right)-\\cos\\left(\\frac{m \\pi}{n}\\right)}=l$$"
   ]
  },
  {
   "cell_type": "code",
   "execution_count": null,
   "metadata": {
    "collapsed": true
   },
   "outputs": [],
   "source": []
  }
 ],
 "metadata": {
  "anaconda-cloud": {},
  "kernelspec": {
   "display_name": "Python [default]",
   "language": "python",
   "name": "python3"
  },
  "language_info": {
   "codemirror_mode": {
    "name": "ipython",
    "version": 3
   },
   "file_extension": ".py",
   "mimetype": "text/x-python",
   "name": "python",
   "nbconvert_exporter": "python",
   "pygments_lexer": "ipython3",
   "version": "3.5.2"
  }
 },
 "nbformat": 4,
 "nbformat_minor": 1
}

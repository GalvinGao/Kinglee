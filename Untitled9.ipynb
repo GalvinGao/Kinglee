{
 "cells": [
  {
   "cell_type": "code",
   "execution_count": 15,
   "metadata": {},
   "outputs": [
    {
     "name": "stdout",
     "output_type": "stream",
     "text": [
      "Is a square.\n"
     ]
    }
   ],
   "source": [
    "# find all the distances from \n",
    "# first point\n",
    "points = [[3,3],[0,0],[0,3],[3,0]]\n",
    "distances = []\n",
    "for n in range(3):\n",
    "    d = ((points[0][0]-points[n+1][0])**2\\\n",
    "         +(points[0][1]-points[n+1][1])**2)**0.5\n",
    "    d=round(d,4)\n",
    "    distances.append(d)\n",
    "for n in range(2):\n",
    "    d = ((points[1][0]-points[n+2][0])**2\\\n",
    "         +(points[1][1]-points[n+2][1])**2)**0.5\n",
    "    distances.append(d)\n",
    "    d=round(d,4)\n",
    "for n in range(1):\n",
    "    d = ((points[2][0]-points[n+3][0])**2\\\n",
    "         +(points[2][1]-points[n+3][1])**2)**0.5\n",
    "    d=round(d,4)\n",
    "    distances.append(d)\n",
    "distance_1 = min(distances)\n",
    "if distances.count(distance_1)==4 and distances.count(round(distance_1*(2)**0.5,4))==2:\n",
    "    print('Is a square.')\n",
    "else:\n",
    "    print('Is not a square.')"
   ]
  },
  {
   "cell_type": "code",
   "execution_count": 18,
   "metadata": {},
   "outputs": [
    {
     "data": {
      "text/plain": [
       "3"
      ]
     },
     "execution_count": 18,
     "metadata": {},
     "output_type": "execute_result"
    }
   ],
   "source": [
    "a=[1,2,3,4,5,5,5,4]\n",
    "a.count(5)"
   ]
  },
  {
   "cell_type": "code",
   "execution_count": null,
   "metadata": {},
   "outputs": [],
   "source": []
  }
 ],
 "metadata": {
  "kernelspec": {
   "display_name": "Python 3",
   "language": "python",
   "name": "python3"
  },
  "language_info": {
   "codemirror_mode": {
    "name": "ipython",
    "version": 3
   },
   "file_extension": ".py",
   "mimetype": "text/x-python",
   "name": "python",
   "nbconvert_exporter": "python",
   "pygments_lexer": "ipython3",
   "version": "3.7.4"
  }
 },
 "nbformat": 4,
 "nbformat_minor": 2
}

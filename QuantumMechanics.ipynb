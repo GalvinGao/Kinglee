{
 "cells": [
  {
   "cell_type": "code",
   "execution_count": 1,
   "metadata": {
    "collapsed": true
   },
   "outputs": [],
   "source": [
    "import numpy as np\n",
    "import matplotlib.pyplot as plt"
   ]
  },
  {
   "cell_type": "markdown",
   "metadata": {},
   "source": [
    "$$ -\\frac{\\hbar^2}{2 m} \\frac{\\partial^2}{\\partial x^2 } \\psi \\left( x \\right)+ V \\left(x \\right) \\psi \\left( x \\right) = E \\psi \\left( x \\right)$$"
   ]
  },
  {
   "cell_type": "markdown",
   "metadata": {},
   "source": [
    "Let $$ V \\left( x \\right) = \n",
    " \\begin{cases} \n",
    "      V_0 & x\\leq -\\frac{l}{2} \\\\\n",
    "      0 & -\\frac{l}{2} \\leq x \\leq \\frac{l}{2} \\\\\n",
    "      V_0 & \\frac{l}{2}\\leq x \n",
    "   \\end{cases}\n",
    "$$"
   ]
  },
  {
   "cell_type": "markdown",
   "metadata": {},
   "source": [
    "Then $$ \\psi \\left( x \\right) = \n",
    " \\begin{cases} \n",
    "      A \\exp \\left( k_2 x \\right) & x \\leq -\\frac{l}{2}  \\\\\n",
    "      B \\cos \\left( k_1 x \\right) & -\\frac{l}{2} \\leq x \\leq \\frac{l}{2} \\\\\n",
    "      A \\exp \\left( -k_2 x \\right) & \\frac{l}{2} \\leq x \n",
    "   \\end{cases}\n",
    "$$"
   ]
  },
  {
   "cell_type": "markdown",
   "metadata": {},
   "source": [
    "Where the coefficients can be found using the properties that $\\psi \\left(x \\right)$ and its derivative are continues, and that the function meets the Schrodinger equation. "
   ]
  },
  {
   "cell_type": "markdown",
   "metadata": {},
   "source": [
    "$$ k_2 = \\sqrt{\\frac{2 m}{\\hbar^2}\\left( V_0-E \\right)} $$\n",
    "$$ k_1 = \\sqrt{\\frac{2 m E}{\\hbar^2}} $$\n",
    "$$ \\psi \\left( \\frac{-l}{2} \\right) =\n",
    "A \\exp \\left( - \\frac{k_2 l }{2} \\right) =\n",
    "B \\cos \\left( \\frac{k_1 l }{2} \\right)$$\n",
    "$$ \\psi' \\left( \\frac{l}{2} \\right) =\n",
    "- A k_2 \\exp \\left( -\\frac{k_2 l }{2} \\right) =\n",
    "- B k_1 \\sin \\left( \\frac{k_1 l }{2} \\right)$$"
   ]
  },
  {
   "cell_type": "markdown",
   "metadata": {},
   "source": [
    "Let $\\hbar=1$, $m=1$, $l=1$, and $V_0=100$. $ E $ should be chosen to make $ \\frac{\\partial}{\\partial x} \\psi $ continuous. "
   ]
  },
  {
   "cell_type": "code",
   "execution_count": 140,
   "metadata": {
    "collapsed": false
   },
   "outputs": [
    {
     "data": {
      "image/png": "[encoded data removed]",
      "text/plain": [
       "<Figure size 432x288 with 1 Axes>"
      ]
     },
     "metadata": {},
     "output_type": "display_data"
    },
    {
     "name": "stdout",
     "output_type": "stream",
     "text": [
      "6.8538364954\n"
     ]
    }
   ],
   "source": [
    "E=7\n",
    "V0=100\n",
    "dpsiMin=100\n",
    "\n",
    "def V(x):\n",
    "    V=V0\n",
    "    if np.abs(x)<0.5:\n",
    "        V=0.0\n",
    "    return V\n",
    "\n",
    "x=[0.0]*1201\n",
    "psi=[0.0]*1201\n",
    "dpsi=[0.0]*1201\n",
    "ddpsi=[0.0]*1201    \n",
    "\n",
    "psi[0]=0.0001\n",
    "dpsi[0]=0.001\n",
    "\n",
    "for n in range(1201):\n",
    "    x[n]=-0.6+n/1000.0\n",
    "\n",
    "for m in range(1000):\n",
    "    \n",
    "    Etest=E+np.random.normal()\n",
    "\n",
    "    for n in range(601):\n",
    "        ddpsi[n]=(V(x[n])-Etest)*psi[n]\n",
    "        psi[n+1]=psi[n]+dpsi[n]*0.001+1/2*ddpsi[n]*0.001**2\n",
    "        dpsi[n+1]=dpsi[n]+0.001*ddpsi[n]\n",
    "        psi[-n]=psi[n]\n",
    "        \n",
    "    if(np.abs(dpsi[600])<dpsiMin):\n",
    "        E=Etest\n",
    "        dpsiMin=np.abs(dpsi[601])\n",
    "\n",
    "for n in range(601):\n",
    "    ddpsi[n]=(V(x[n])-E)*psi[n]\n",
    "    psi[n+1]=psi[n]+dpsi[n]*0.001+1/2*ddpsi[n]*0.001**2\n",
    "    dpsi[n+1]=dpsi[n]+0.001*ddpsi[n]\n",
    "    psi[-n]=psi[n]\n",
    "        \n",
    "        \n",
    "plt.plot(x,psi)\n",
    "plt.show()\n",
    "print E"
   ]
  },
  {
   "cell_type": "code",
   "execution_count": 145,
   "metadata": {
    "collapsed": false
   },
   "outputs": [
    {
     "data": {
      "image/png": "[encoded data removed]",
      "text/plain": [
       "<Figure size 432x288 with 1 Axes>"
      ]
     },
     "metadata": {},
     "output_type": "display_data"
    }
   ],
   "source": [
    "def psiFunc(x,k1,k2,A,B):\n",
    "    val=0\n",
    "    if(x<-0.5):\n",
    "        val=A*np.exp(k2*x)\n",
    "    elif(x<0.5):\n",
    "        val=B*np.cos(k1*x)\n",
    "    else:\n",
    "        val=A*np.exp(-k2*x)\n",
    "    return val\n",
    "\n",
    "B = psi[601]\n",
    "diffMin=0.01\n",
    "\n",
    "for m in range(1000):\n",
    "    diff=0\n",
    "    \n",
    "    Etest=E*(1+np.random.normal()/10)\n",
    "    Btest=B*(1+np.random.normal()/10)\n",
    "    k2test=np.sqrt(2*(V0-Etest))\n",
    "    k1test=np.sqrt(2*Etest)\n",
    "    Atest=Btest*np.cos(k1test/2)*np.exp(k2test/2)\n",
    "    for n in range(len(x)):\n",
    "        diff=diff+np.abs(psiFunc(x[n],k1test,k2test,Atest,Btest)-psi[n])\n",
    "    if(diff<diffMin):\n",
    "        E=Etest\n",
    "        B=Btest\n",
    "        A=Atest\n",
    "        k1=k1test\n",
    "        k2=k2test\n",
    "\n",
    "        \n",
    "psiFuncList=[0]*1201\n",
    "for n in range(len(x)):\n",
    "    psiFuncList[n]=psiFunc(x[n],k1,k2,A,B)\n",
    "    \n",
    "plt.plot(x,psiFuncList,x,psi)\n",
    "plt.show()\n"
   ]
  },
  {
   "cell_type": "markdown",
   "metadata": {},
   "source": [
    "The Feynman path integral form of quantum mechanics describes the probability amplitude as"
   ]
  },
  {
   "cell_type": "markdown",
   "metadata": {},
   "source": [
    "$$Z \\left( a,b \\right) \\propto \\sum \\exp \\left( i \\frac{S [ x \\left( t \\right) ]}{\\hbar} \\right)$$"
   ]
  },
  {
   "cell_type": "markdown",
   "metadata": {},
   "source": [
    "$$ S = \\int L \\left( x, \\dot{x} \\right) dt = \\int KE - PE dt $$"
   ]
  },
  {
   "cell_type": "markdown",
   "metadata": {},
   "source": [
    "where the sum is over all paths. "
   ]
  },
  {
   "cell_type": "code",
   "execution_count": null,
   "metadata": {
    "collapsed": true
   },
   "outputs": [],
   "source": [
    "def intS(dt,xi,xf):\n",
    "    #always in high potential area\n",
    "    if (xi<-l/2 and xf<-l/2) of (xi>l/2 and xf>l/2):\n",
    "        U=V0\n",
    "    #moving from left high potential area to low potential area\n",
    "    if (xi<-l/2 and np.abs(xf)<l/2):\n",
    "        U=V0*(-l/2-xi)/(xf-xi)\n",
    "    #moving left high potential area to left high potential\n",
    "    if (xf<-l/2 and np.abs(xi)<l/2):\n",
    "        U=V0*l*(xf-xi)\n",
    "    v=(xf-xi)/dt\n",
    "    return dt*(v**2/2+)"
   ]
  }
 ],
 "metadata": {
  "anaconda-cloud": {},
  "kernelspec": {
   "display_name": "Python [conda env:py27]",
   "language": "python",
   "name": "conda-env-py27-py"
  },
  "language_info": {
   "codemirror_mode": {
    "name": "ipython",
    "version": 2
   },
   "file_extension": ".py",
   "mimetype": "text/x-python",
   "name": "python",
   "nbconvert_exporter": "python",
   "pygments_lexer": "ipython2",
   "version": "2.7.13"
  }
 },
 "nbformat": 4,
 "nbformat_minor": 1
}

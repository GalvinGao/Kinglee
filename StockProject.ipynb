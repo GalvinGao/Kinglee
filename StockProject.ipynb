{
 "cells": [
  {
   "cell_type": "markdown",
   "metadata": {},
   "source": [
    "# Stock Project"
   ]
  },
  {
   "cell_type": "code",
   "execution_count": 9,
   "metadata": {
    "collapsed": false
   },
   "outputs": [],
   "source": [
    "import os\n",
    "import datetime\n",
    "import urllib.request\n",
    "\n",
    "def getNumberOfLines(stock):\n",
    "    #returns the number of lines in the file\n",
    "    file=open(\"stockData/\"+stock+\".csv\")\n",
    "    numberOfLines=0\n",
    "    line=file.readline()\n",
    "    while line!='':\n",
    "        numberOfLines+=1\n",
    "        line=file.readline()\n",
    "    file.close()\n",
    "    return numberOfLines\n",
    "\n",
    "def updateData(listOfStocks):\n",
    "    #gets data from the internet\n",
    "    for stock in listOfStocks:\n",
    "        print(stock)\n",
    "        numberOfLines=0\n",
    "        tries=0\n",
    "        #creates a file if it doesn't exist\n",
    "        if not os.path.exists(\"stockData/\"+stock+\".csv\"):\n",
    "            file=open(\"stockData/\"+stock+\".csv\",\"w+\")\n",
    "            file.close()\n",
    "        #download data and keep trying if it doesn't work\n",
    "        while (tries<10 and numberOfLines<10):\n",
    "            tries=tries+1\n",
    "            urllib.request.urlretrieve('https://www.alphavantage.co/query?function=TIME_SERIES_DAILY_ADJUSTED&symbol='\\\n",
    "                +stock+'&outputsize=full&apikey=...&datatype=csv',\"stockData/\"+stock+'.csv')\n",
    "            numberOfLines=getNumberOfLines(stock)\n",
    "\n",
    "def getData(stock):\n",
    "    #returns a list of stock prices for a number of pervious days\n",
    "    closingValues = []\n",
    "    file=open('stockData/'+stock+'.csv')\n",
    "    line=file.readline()\n",
    "    while line!='':\n",
    "        closingValues=closingValues+[line[:-1].split(',')]\n",
    "        line=file.readline()\n",
    "    return closingValues"
   ]
  },
  {
   "cell_type": "code",
   "execution_count": 8,
   "metadata": {
    "collapsed": false
   },
   "outputs": [
    {
     "name": "stdout",
     "output_type": "stream",
     "text": [
      "['timestamp', 'open', 'high', 'low', 'close', 'adjusted_close', 'volume', 'dividend_amount', 'split_coefficient']\n",
      "['2018-01-17', '246.8500', '248.5300', '245.8000', '248.1100', '248.1100', '2435735', '0.0000', '1.0000']\n",
      "4540\n"
     ]
    }
   ],
   "source": [
    "stocks=['MMM','A','FUD']\n",
    "\n",
    "updateData(stocks)\n",
    "\n",
    "data=getData(stocks[0])\n",
    "\n",
    "print(data[0])\n",
    "print(data[1])\n",
    "print(len(data))"
   ]
  },
  {
   "cell_type": "code",
   "execution_count": null,
   "metadata": {
    "collapsed": false
   },
   "outputs": [],
   "source": []
  }
 ],
 "metadata": {
  "anaconda-cloud": {},
  "kernelspec": {
   "display_name": "Python [default]",
   "language": "python",
   "name": "python3"
  },
  "language_info": {
   "codemirror_mode": {
    "name": "ipython",
    "version": 3
   },
   "file_extension": ".py",
   "mimetype": "text/x-python",
   "name": "python",
   "nbconvert_exporter": "python",
   "pygments_lexer": "ipython3",
   "version": "3.5.2"
  }
 },
 "nbformat": 4,
 "nbformat_minor": 1
}

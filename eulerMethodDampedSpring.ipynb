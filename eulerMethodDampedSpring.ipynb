{
 "cells": [
  {
   "cell_type": "markdown",
   "metadata": {},
   "source": [
    "# Euler's Method For a Damped Harmonic Oscilator"
   ]
  },
  {
   "cell_type": "markdown",
   "metadata": {},
   "source": [
    "Consider the equations for a damped spring, \n",
    "$$ F = - k x - b v = m a. $$"
   ]
  },
  {
   "cell_type": "markdown",
   "metadata": {},
   "source": [
    "Using dot notation for the instantaneous rate of change,\n",
    "$$ \\dot{x} = v$$\n",
    "$$ \\dot{v} = a.$$"
   ]
  },
  {
   "cell_type": "markdown",
   "metadata": {},
   "source": [
    "The previous equations say the instantaneous rate of change of position $x$ with respect to time is velocity $v$, and the instantaneous rate of change of velocity $v$ with respect to time is acceleration. "
   ]
  },
  {
   "cell_type": "markdown",
   "metadata": {},
   "source": [
    "Consider a the time step $ \\Delta t = 0.1 s $, meaning that we will calculate the positions and velocities at the times $ t = 0.01, 0.02, 0.03, ....$. Using the sequence notation $ x( n \\cdot 0.01) = x_n$ and $ v( n \\cdot 0.01) = v_n$. If you approximate the position and velocity as the linear equations $x(t) = x_0 + v_0 t$ and $ v(t)=v_0+a \\Delta t$ between time steps then, $$ x_{n+1} = x_n + v_n \\Delta t $$ and $$ v_{n+1} = v_n + a \\Delta t . $$ From the first equation $$a_n = - \\frac{k}{m} x_n - \\frac{b}{m} v_n .$$"
   ]
  },
  {
   "cell_type": "markdown",
   "metadata": {},
   "source": [
    "Now let's assume $ k = 1 \\textrm{N/m}$, $b = \\frac{1}{2} \\textrm{N s/m}$, and $ m = 1 \\textrm{kg} $. We can do the problem as soon as we choose an intial speed and position. So lets pull our spring $1 \\textrm{m}$ and let it go. That would mean $ x_0 = 1 $, and $ v_0 = 0$. Now let's code. "
   ]
  },
  {
   "cell_type": "code",
   "execution_count": 12,
   "metadata": {
    "collapsed": false
   },
   "outputs": [
    {
     "data": {
      "image/png": "[encoded data removed]",
      "text/plain": [
       "<matplotlib.figure.Figure at 0x2738eb31668>"
      ]
     },
     "metadata": {},
     "output_type": "display_data"
    }
   ],
   "source": [
    "# importing the tools we need to use\n",
    "import numpy as np\n",
    "import matplotlib.pyplot as plt\n",
    "\n",
    "# making a time step\n",
    "dT=0.01\n",
    "\n",
    "# making empty lists to hold the sequences\n",
    "tn=[0]*1000\n",
    "xn=[0]*1000\n",
    "vn=[0]*1000\n",
    "an=[0]*1000\n",
    "\n",
    "# putting in our initial values\n",
    "xn[0]=1\n",
    "vn[0]=0\n",
    "\n",
    "# using the linear equations and first equation to fill our lists\n",
    "for n in range(999):\n",
    "    an[n]=-xn[n]-0.5*vn[n]\n",
    "    tn[n+1]=dT*(n+1)\n",
    "    xn[n+1]=xn[n]+vn[n]*dT\n",
    "    vn[n+1]=vn[n]+an[n]*dT\n",
    "    \n",
    "# position graph\n",
    "plt.plot(tn,xn)\n",
    "plt.show()"
   ]
  },
  {
   "cell_type": "code",
   "execution_count": null,
   "metadata": {
    "collapsed": true
   },
   "outputs": [],
   "source": []
  },
  {
   "cell_type": "code",
   "execution_count": null,
   "metadata": {
    "collapsed": true
   },
   "outputs": [],
   "source": []
  }
 ],
 "metadata": {
  "anaconda-cloud": {},
  "kernelspec": {
   "display_name": "Python [default]",
   "language": "python",
   "name": "python3"
  },
  "language_info": {
   "codemirror_mode": {
    "name": "ipython",
    "version": 3
   },
   "file_extension": ".py",
   "mimetype": "text/x-python",
   "name": "python",
   "nbconvert_exporter": "python",
   "pygments_lexer": "ipython3",
   "version": "3.5.2"
  }
 },
 "nbformat": 4,
 "nbformat_minor": 1
}
